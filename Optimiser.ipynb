{
 "cells": [
  {
   "cell_type": "code",
   "execution_count": 1,
   "id": "048b9458",
   "metadata": {},
   "outputs": [],
   "source": [
    "#Importing packages \n",
    "import numpy as np\n",
    "import pandas as pd\n",
    "import matplotlib.pyplot as plt"
   ]
  },
  {
   "cell_type": "code",
   "execution_count": 2,
   "id": "70f00257",
   "metadata": {},
   "outputs": [
    {
     "data": {
      "text/html": [
       "<div>\n",
       "<style scoped>\n",
       "    .dataframe tbody tr th:only-of-type {\n",
       "        vertical-align: middle;\n",
       "    }\n",
       "\n",
       "    .dataframe tbody tr th {\n",
       "        vertical-align: top;\n",
       "    }\n",
       "\n",
       "    .dataframe thead th {\n",
       "        text-align: right;\n",
       "    }\n",
       "</style>\n",
       "<table border=\"1\" class=\"dataframe\">\n",
       "  <thead>\n",
       "    <tr style=\"text-align: right;\">\n",
       "      <th></th>\n",
       "      <th>Natural Variables</th>\n",
       "      <th>Unnamed: 1</th>\n",
       "      <th>Coded Variables</th>\n",
       "      <th>Unnamed: 3</th>\n",
       "      <th>Output</th>\n",
       "    </tr>\n",
       "  </thead>\n",
       "  <tbody>\n",
       "    <tr>\n",
       "      <th>0</th>\n",
       "      <td>Cost Variable (C)</td>\n",
       "      <td>Risk Variable (R)</td>\n",
       "      <td>x1</td>\n",
       "      <td>x2</td>\n",
       "      <td>Total Cost Function (T)</td>\n",
       "    </tr>\n",
       "    <tr>\n",
       "      <th>1</th>\n",
       "      <td>250</td>\n",
       "      <td>50</td>\n",
       "      <td>-1</td>\n",
       "      <td>-1</td>\n",
       "      <td>48.3009</td>\n",
       "    </tr>\n",
       "    <tr>\n",
       "      <th>2</th>\n",
       "      <td>250</td>\n",
       "      <td>60</td>\n",
       "      <td>-1</td>\n",
       "      <td>1</td>\n",
       "      <td>35.0665</td>\n",
       "    </tr>\n",
       "    <tr>\n",
       "      <th>3</th>\n",
       "      <td>300</td>\n",
       "      <td>50</td>\n",
       "      <td>1</td>\n",
       "      <td>-1</td>\n",
       "      <td>48.803</td>\n",
       "    </tr>\n",
       "    <tr>\n",
       "      <th>4</th>\n",
       "      <td>300</td>\n",
       "      <td>60</td>\n",
       "      <td>1</td>\n",
       "      <td>1</td>\n",
       "      <td>63.1786</td>\n",
       "    </tr>\n",
       "    <tr>\n",
       "      <th>5</th>\n",
       "      <td>275</td>\n",
       "      <td>55</td>\n",
       "      <td>0</td>\n",
       "      <td>0</td>\n",
       "      <td>35.1601</td>\n",
       "    </tr>\n",
       "    <tr>\n",
       "      <th>6</th>\n",
       "      <td>275</td>\n",
       "      <td>55</td>\n",
       "      <td>0</td>\n",
       "      <td>0</td>\n",
       "      <td>35.084</td>\n",
       "    </tr>\n",
       "    <tr>\n",
       "      <th>7</th>\n",
       "      <td>275</td>\n",
       "      <td>55</td>\n",
       "      <td>0</td>\n",
       "      <td>0</td>\n",
       "      <td>34.7753</td>\n",
       "    </tr>\n",
       "    <tr>\n",
       "      <th>8</th>\n",
       "      <td>275</td>\n",
       "      <td>55</td>\n",
       "      <td>0</td>\n",
       "      <td>0</td>\n",
       "      <td>35.2531</td>\n",
       "    </tr>\n",
       "    <tr>\n",
       "      <th>9</th>\n",
       "      <td>275</td>\n",
       "      <td>55</td>\n",
       "      <td>0</td>\n",
       "      <td>0</td>\n",
       "      <td>34.6404</td>\n",
       "    </tr>\n",
       "    <tr>\n",
       "      <th>10</th>\n",
       "      <td>239.645</td>\n",
       "      <td>55</td>\n",
       "      <td>-1.414</td>\n",
       "      <td>0</td>\n",
       "      <td>41.8214</td>\n",
       "    </tr>\n",
       "    <tr>\n",
       "      <th>11</th>\n",
       "      <td>310.355</td>\n",
       "      <td>55</td>\n",
       "      <td>1.414</td>\n",
       "      <td>0</td>\n",
       "      <td>62.2548</td>\n",
       "    </tr>\n",
       "    <tr>\n",
       "      <th>12</th>\n",
       "      <td>275</td>\n",
       "      <td>47.929</td>\n",
       "      <td>0</td>\n",
       "      <td>-1.414</td>\n",
       "      <td>45.2469</td>\n",
       "    </tr>\n",
       "    <tr>\n",
       "      <th>13</th>\n",
       "      <td>275</td>\n",
       "      <td>62.071</td>\n",
       "      <td>0</td>\n",
       "      <td>1.414</td>\n",
       "      <td>45.5007</td>\n",
       "    </tr>\n",
       "  </tbody>\n",
       "</table>\n",
       "</div>"
      ],
      "text/plain": [
       "    Natural Variables         Unnamed: 1 Coded Variables Unnamed: 3  \\\n",
       "0   Cost Variable (C)  Risk Variable (R)              x1         x2   \n",
       "1                 250                 50              -1         -1   \n",
       "2                 250                 60              -1          1   \n",
       "3                 300                 50               1         -1   \n",
       "4                 300                 60               1          1   \n",
       "5                 275                 55               0          0   \n",
       "6                 275                 55               0          0   \n",
       "7                 275                 55               0          0   \n",
       "8                 275                 55               0          0   \n",
       "9                 275                 55               0          0   \n",
       "10            239.645                 55          -1.414          0   \n",
       "11            310.355                 55           1.414          0   \n",
       "12                275             47.929               0     -1.414   \n",
       "13                275             62.071               0      1.414   \n",
       "\n",
       "                     Output  \n",
       "0   Total Cost Function (T)  \n",
       "1                   48.3009  \n",
       "2                   35.0665  \n",
       "3                    48.803  \n",
       "4                   63.1786  \n",
       "5                   35.1601  \n",
       "6                    35.084  \n",
       "7                   34.7753  \n",
       "8                   35.2531  \n",
       "9                   34.6404  \n",
       "10                  41.8214  \n",
       "11                  62.2548  \n",
       "12                  45.2469  \n",
       "13                  45.5007  "
      ]
     },
     "execution_count": 2,
     "metadata": {},
     "output_type": "execute_result"
    }
   ],
   "source": [
    "#CSV file of values of C, R and T\n",
    "pd.read_csv(\"A.csv\")"
   ]
  },
  {
   "cell_type": "code",
   "execution_count": 3,
   "id": "f85cbb93",
   "metadata": {},
   "outputs": [
    {
     "data": {
      "text/html": [
       "<div>\n",
       "<style scoped>\n",
       "    .dataframe tbody tr th:only-of-type {\n",
       "        vertical-align: middle;\n",
       "    }\n",
       "\n",
       "    .dataframe tbody tr th {\n",
       "        vertical-align: top;\n",
       "    }\n",
       "\n",
       "    .dataframe thead th {\n",
       "        text-align: right;\n",
       "    }\n",
       "</style>\n",
       "<table border=\"1\" class=\"dataframe\">\n",
       "  <thead>\n",
       "    <tr style=\"text-align: right;\">\n",
       "      <th></th>\n",
       "      <th>x1</th>\n",
       "      <th>x2</th>\n",
       "      <th>x1^2</th>\n",
       "      <th>x2^2</th>\n",
       "      <th>x1x2</th>\n",
       "      <th>y</th>\n",
       "    </tr>\n",
       "  </thead>\n",
       "  <tbody>\n",
       "    <tr>\n",
       "      <th>0</th>\n",
       "      <td>-1.000</td>\n",
       "      <td>-1.000</td>\n",
       "      <td>1</td>\n",
       "      <td>1</td>\n",
       "      <td>1</td>\n",
       "      <td>48.3009</td>\n",
       "    </tr>\n",
       "    <tr>\n",
       "      <th>1</th>\n",
       "      <td>-1.000</td>\n",
       "      <td>1.000</td>\n",
       "      <td>1</td>\n",
       "      <td>1</td>\n",
       "      <td>-1</td>\n",
       "      <td>35.0665</td>\n",
       "    </tr>\n",
       "    <tr>\n",
       "      <th>2</th>\n",
       "      <td>1.000</td>\n",
       "      <td>-1.000</td>\n",
       "      <td>1</td>\n",
       "      <td>1</td>\n",
       "      <td>-1</td>\n",
       "      <td>48.8030</td>\n",
       "    </tr>\n",
       "    <tr>\n",
       "      <th>3</th>\n",
       "      <td>1.000</td>\n",
       "      <td>1.000</td>\n",
       "      <td>1</td>\n",
       "      <td>1</td>\n",
       "      <td>1</td>\n",
       "      <td>63.1786</td>\n",
       "    </tr>\n",
       "    <tr>\n",
       "      <th>4</th>\n",
       "      <td>0.000</td>\n",
       "      <td>0.000</td>\n",
       "      <td>0</td>\n",
       "      <td>0</td>\n",
       "      <td>0</td>\n",
       "      <td>35.1601</td>\n",
       "    </tr>\n",
       "    <tr>\n",
       "      <th>5</th>\n",
       "      <td>0.000</td>\n",
       "      <td>0.000</td>\n",
       "      <td>0</td>\n",
       "      <td>0</td>\n",
       "      <td>0</td>\n",
       "      <td>35.0840</td>\n",
       "    </tr>\n",
       "    <tr>\n",
       "      <th>6</th>\n",
       "      <td>0.000</td>\n",
       "      <td>0.000</td>\n",
       "      <td>0</td>\n",
       "      <td>0</td>\n",
       "      <td>0</td>\n",
       "      <td>34.7753</td>\n",
       "    </tr>\n",
       "    <tr>\n",
       "      <th>7</th>\n",
       "      <td>0.000</td>\n",
       "      <td>0.000</td>\n",
       "      <td>0</td>\n",
       "      <td>0</td>\n",
       "      <td>0</td>\n",
       "      <td>35.2531</td>\n",
       "    </tr>\n",
       "    <tr>\n",
       "      <th>8</th>\n",
       "      <td>0.000</td>\n",
       "      <td>0.000</td>\n",
       "      <td>0</td>\n",
       "      <td>0</td>\n",
       "      <td>0</td>\n",
       "      <td>34.6404</td>\n",
       "    </tr>\n",
       "    <tr>\n",
       "      <th>9</th>\n",
       "      <td>-1.414</td>\n",
       "      <td>0.000</td>\n",
       "      <td>2</td>\n",
       "      <td>0</td>\n",
       "      <td>0</td>\n",
       "      <td>41.8214</td>\n",
       "    </tr>\n",
       "    <tr>\n",
       "      <th>10</th>\n",
       "      <td>1.414</td>\n",
       "      <td>0.000</td>\n",
       "      <td>2</td>\n",
       "      <td>0</td>\n",
       "      <td>0</td>\n",
       "      <td>62.2548</td>\n",
       "    </tr>\n",
       "    <tr>\n",
       "      <th>11</th>\n",
       "      <td>0.000</td>\n",
       "      <td>-1.414</td>\n",
       "      <td>0</td>\n",
       "      <td>2</td>\n",
       "      <td>0</td>\n",
       "      <td>45.2469</td>\n",
       "    </tr>\n",
       "    <tr>\n",
       "      <th>12</th>\n",
       "      <td>0.000</td>\n",
       "      <td>1.414</td>\n",
       "      <td>0</td>\n",
       "      <td>2</td>\n",
       "      <td>0</td>\n",
       "      <td>45.5007</td>\n",
       "    </tr>\n",
       "  </tbody>\n",
       "</table>\n",
       "</div>"
      ],
      "text/plain": [
       "       x1     x2  x1^2  x2^2  x1x2        y\n",
       "0  -1.000 -1.000     1     1     1  48.3009\n",
       "1  -1.000  1.000     1     1    -1  35.0665\n",
       "2   1.000 -1.000     1     1    -1  48.8030\n",
       "3   1.000  1.000     1     1     1  63.1786\n",
       "4   0.000  0.000     0     0     0  35.1601\n",
       "5   0.000  0.000     0     0     0  35.0840\n",
       "6   0.000  0.000     0     0     0  34.7753\n",
       "7   0.000  0.000     0     0     0  35.2531\n",
       "8   0.000  0.000     0     0     0  34.6404\n",
       "9  -1.414  0.000     2     0     0  41.8214\n",
       "10  1.414  0.000     2     0     0  62.2548\n",
       "11  0.000 -1.414     0     2     0  45.2469\n",
       "12  0.000  1.414     0     2     0  45.5007"
      ]
     },
     "execution_count": 3,
     "metadata": {},
     "output_type": "execute_result"
    }
   ],
   "source": [
    "#CSV file of values of variables in function\n",
    "pd.read_csv(\"B.csv\")"
   ]
  },
  {
   "cell_type": "code",
   "execution_count": 4,
   "id": "a67f4dcf",
   "metadata": {},
   "outputs": [
    {
     "data": {
      "text/html": [
       "<div>\n",
       "<style scoped>\n",
       "    .dataframe tbody tr th:only-of-type {\n",
       "        vertical-align: middle;\n",
       "    }\n",
       "\n",
       "    .dataframe tbody tr th {\n",
       "        vertical-align: top;\n",
       "    }\n",
       "\n",
       "    .dataframe thead th {\n",
       "        text-align: right;\n",
       "    }\n",
       "</style>\n",
       "<table border=\"1\" class=\"dataframe\">\n",
       "  <thead>\n",
       "    <tr style=\"text-align: right;\">\n",
       "      <th></th>\n",
       "      <th>0</th>\n",
       "      <th>1</th>\n",
       "      <th>2</th>\n",
       "      <th>3</th>\n",
       "      <th>4</th>\n",
       "      <th>5</th>\n",
       "    </tr>\n",
       "  </thead>\n",
       "  <tbody>\n",
       "    <tr>\n",
       "      <th>0</th>\n",
       "      <td>1</td>\n",
       "      <td>-1.000</td>\n",
       "      <td>-1.000</td>\n",
       "      <td>1</td>\n",
       "      <td>1</td>\n",
       "      <td>1</td>\n",
       "    </tr>\n",
       "    <tr>\n",
       "      <th>1</th>\n",
       "      <td>1</td>\n",
       "      <td>-1.000</td>\n",
       "      <td>1.000</td>\n",
       "      <td>1</td>\n",
       "      <td>1</td>\n",
       "      <td>-1</td>\n",
       "    </tr>\n",
       "    <tr>\n",
       "      <th>2</th>\n",
       "      <td>1</td>\n",
       "      <td>1.000</td>\n",
       "      <td>-1.000</td>\n",
       "      <td>1</td>\n",
       "      <td>1</td>\n",
       "      <td>-1</td>\n",
       "    </tr>\n",
       "    <tr>\n",
       "      <th>3</th>\n",
       "      <td>1</td>\n",
       "      <td>1.000</td>\n",
       "      <td>1.000</td>\n",
       "      <td>1</td>\n",
       "      <td>1</td>\n",
       "      <td>1</td>\n",
       "    </tr>\n",
       "    <tr>\n",
       "      <th>4</th>\n",
       "      <td>1</td>\n",
       "      <td>0.000</td>\n",
       "      <td>0.000</td>\n",
       "      <td>0</td>\n",
       "      <td>0</td>\n",
       "      <td>0</td>\n",
       "    </tr>\n",
       "    <tr>\n",
       "      <th>5</th>\n",
       "      <td>1</td>\n",
       "      <td>0.000</td>\n",
       "      <td>0.000</td>\n",
       "      <td>0</td>\n",
       "      <td>0</td>\n",
       "      <td>0</td>\n",
       "    </tr>\n",
       "    <tr>\n",
       "      <th>6</th>\n",
       "      <td>1</td>\n",
       "      <td>0.000</td>\n",
       "      <td>0.000</td>\n",
       "      <td>0</td>\n",
       "      <td>0</td>\n",
       "      <td>0</td>\n",
       "    </tr>\n",
       "    <tr>\n",
       "      <th>7</th>\n",
       "      <td>1</td>\n",
       "      <td>0.000</td>\n",
       "      <td>0.000</td>\n",
       "      <td>0</td>\n",
       "      <td>0</td>\n",
       "      <td>0</td>\n",
       "    </tr>\n",
       "    <tr>\n",
       "      <th>8</th>\n",
       "      <td>1</td>\n",
       "      <td>0.000</td>\n",
       "      <td>0.000</td>\n",
       "      <td>0</td>\n",
       "      <td>0</td>\n",
       "      <td>0</td>\n",
       "    </tr>\n",
       "    <tr>\n",
       "      <th>9</th>\n",
       "      <td>1</td>\n",
       "      <td>-1.414</td>\n",
       "      <td>0.000</td>\n",
       "      <td>2</td>\n",
       "      <td>0</td>\n",
       "      <td>0</td>\n",
       "    </tr>\n",
       "    <tr>\n",
       "      <th>10</th>\n",
       "      <td>1</td>\n",
       "      <td>1.414</td>\n",
       "      <td>0.000</td>\n",
       "      <td>2</td>\n",
       "      <td>0</td>\n",
       "      <td>0</td>\n",
       "    </tr>\n",
       "    <tr>\n",
       "      <th>11</th>\n",
       "      <td>1</td>\n",
       "      <td>0.000</td>\n",
       "      <td>-1.414</td>\n",
       "      <td>0</td>\n",
       "      <td>2</td>\n",
       "      <td>0</td>\n",
       "    </tr>\n",
       "    <tr>\n",
       "      <th>12</th>\n",
       "      <td>1</td>\n",
       "      <td>0.000</td>\n",
       "      <td>1.414</td>\n",
       "      <td>0</td>\n",
       "      <td>2</td>\n",
       "      <td>0</td>\n",
       "    </tr>\n",
       "  </tbody>\n",
       "</table>\n",
       "</div>"
      ],
      "text/plain": [
       "    0      1      2  3  4  5\n",
       "0   1 -1.000 -1.000  1  1  1\n",
       "1   1 -1.000  1.000  1  1 -1\n",
       "2   1  1.000 -1.000  1  1 -1\n",
       "3   1  1.000  1.000  1  1  1\n",
       "4   1  0.000  0.000  0  0  0\n",
       "5   1  0.000  0.000  0  0  0\n",
       "6   1  0.000  0.000  0  0  0\n",
       "7   1  0.000  0.000  0  0  0\n",
       "8   1  0.000  0.000  0  0  0\n",
       "9   1 -1.414  0.000  2  0  0\n",
       "10  1  1.414  0.000  2  0  0\n",
       "11  1  0.000 -1.414  0  2  0\n",
       "12  1  0.000  1.414  0  2  0"
      ]
     },
     "execution_count": 4,
     "metadata": {},
     "output_type": "execute_result"
    }
   ],
   "source": [
    "#CSV file of matrix X\n",
    "Xcsv=pd.read_csv(\"X.csv\",header=None)\n",
    "Xcsv"
   ]
  },
  {
   "cell_type": "code",
   "execution_count": 5,
   "id": "ffccecb1",
   "metadata": {},
   "outputs": [
    {
     "data": {
      "text/plain": [
       "array([[ 1.   , -1.   , -1.   ,  1.   ,  1.   ,  1.   ],\n",
       "       [ 1.   , -1.   ,  1.   ,  1.   ,  1.   , -1.   ],\n",
       "       [ 1.   ,  1.   , -1.   ,  1.   ,  1.   , -1.   ],\n",
       "       [ 1.   ,  1.   ,  1.   ,  1.   ,  1.   ,  1.   ],\n",
       "       [ 1.   ,  0.   ,  0.   ,  0.   ,  0.   ,  0.   ],\n",
       "       [ 1.   ,  0.   ,  0.   ,  0.   ,  0.   ,  0.   ],\n",
       "       [ 1.   ,  0.   ,  0.   ,  0.   ,  0.   ,  0.   ],\n",
       "       [ 1.   ,  0.   ,  0.   ,  0.   ,  0.   ,  0.   ],\n",
       "       [ 1.   ,  0.   ,  0.   ,  0.   ,  0.   ,  0.   ],\n",
       "       [ 1.   , -1.414,  0.   ,  2.   ,  0.   ,  0.   ],\n",
       "       [ 1.   ,  1.414,  0.   ,  2.   ,  0.   ,  0.   ],\n",
       "       [ 1.   ,  0.   , -1.414,  0.   ,  2.   ,  0.   ],\n",
       "       [ 1.   ,  0.   ,  1.414,  0.   ,  2.   ,  0.   ]])"
      ]
     },
     "execution_count": 5,
     "metadata": {},
     "output_type": "execute_result"
    }
   ],
   "source": [
    "#Array of matrix X\n",
    "X=np.array(Xcsv.iloc[:,:])\n",
    "X"
   ]
  },
  {
   "cell_type": "code",
   "execution_count": 6,
   "id": "80a71c8a",
   "metadata": {},
   "outputs": [
    {
     "data": {
      "text/html": [
       "<div>\n",
       "<style scoped>\n",
       "    .dataframe tbody tr th:only-of-type {\n",
       "        vertical-align: middle;\n",
       "    }\n",
       "\n",
       "    .dataframe tbody tr th {\n",
       "        vertical-align: top;\n",
       "    }\n",
       "\n",
       "    .dataframe thead th {\n",
       "        text-align: right;\n",
       "    }\n",
       "</style>\n",
       "<table border=\"1\" class=\"dataframe\">\n",
       "  <thead>\n",
       "    <tr style=\"text-align: right;\">\n",
       "      <th></th>\n",
       "      <th>0</th>\n",
       "    </tr>\n",
       "  </thead>\n",
       "  <tbody>\n",
       "    <tr>\n",
       "      <th>0</th>\n",
       "      <td>48.3009</td>\n",
       "    </tr>\n",
       "    <tr>\n",
       "      <th>1</th>\n",
       "      <td>35.0665</td>\n",
       "    </tr>\n",
       "    <tr>\n",
       "      <th>2</th>\n",
       "      <td>48.8030</td>\n",
       "    </tr>\n",
       "    <tr>\n",
       "      <th>3</th>\n",
       "      <td>63.1786</td>\n",
       "    </tr>\n",
       "    <tr>\n",
       "      <th>4</th>\n",
       "      <td>35.1601</td>\n",
       "    </tr>\n",
       "    <tr>\n",
       "      <th>5</th>\n",
       "      <td>35.0840</td>\n",
       "    </tr>\n",
       "    <tr>\n",
       "      <th>6</th>\n",
       "      <td>34.7753</td>\n",
       "    </tr>\n",
       "    <tr>\n",
       "      <th>7</th>\n",
       "      <td>35.2531</td>\n",
       "    </tr>\n",
       "    <tr>\n",
       "      <th>8</th>\n",
       "      <td>34.6404</td>\n",
       "    </tr>\n",
       "    <tr>\n",
       "      <th>9</th>\n",
       "      <td>41.8214</td>\n",
       "    </tr>\n",
       "    <tr>\n",
       "      <th>10</th>\n",
       "      <td>62.2548</td>\n",
       "    </tr>\n",
       "    <tr>\n",
       "      <th>11</th>\n",
       "      <td>45.2469</td>\n",
       "    </tr>\n",
       "    <tr>\n",
       "      <th>12</th>\n",
       "      <td>45.5007</td>\n",
       "    </tr>\n",
       "  </tbody>\n",
       "</table>\n",
       "</div>"
      ],
      "text/plain": [
       "          0\n",
       "0   48.3009\n",
       "1   35.0665\n",
       "2   48.8030\n",
       "3   63.1786\n",
       "4   35.1601\n",
       "5   35.0840\n",
       "6   34.7753\n",
       "7   35.2531\n",
       "8   34.6404\n",
       "9   41.8214\n",
       "10  62.2548\n",
       "11  45.2469\n",
       "12  45.5007"
      ]
     },
     "execution_count": 6,
     "metadata": {},
     "output_type": "execute_result"
    }
   ],
   "source": [
    "#CSV file of matrix Y\n",
    "Ycsv=pd.read_csv(\"Y.csv\",header=None)\n",
    "Ycsv"
   ]
  },
  {
   "cell_type": "code",
   "execution_count": 7,
   "id": "5d098f07",
   "metadata": {},
   "outputs": [
    {
     "data": {
      "text/plain": [
       "array([[48.3009],\n",
       "       [35.0665],\n",
       "       [48.803 ],\n",
       "       [63.1786],\n",
       "       [35.1601],\n",
       "       [35.084 ],\n",
       "       [34.7753],\n",
       "       [35.2531],\n",
       "       [34.6404],\n",
       "       [41.8214],\n",
       "       [62.2548],\n",
       "       [45.2469],\n",
       "       [45.5007]])"
      ]
     },
     "execution_count": 7,
     "metadata": {},
     "output_type": "execute_result"
    }
   ],
   "source": [
    "#Array of matrix Y\n",
    "Y=np.array(Ycsv.iloc[:,:])\n",
    "Y"
   ]
  },
  {
   "cell_type": "code",
   "execution_count": 8,
   "id": "702aaeb6",
   "metadata": {},
   "outputs": [
    {
     "data": {
      "text/plain": [
       "array([[ 1.   ,  1.   ,  1.   ,  1.   ,  1.   ,  1.   ,  1.   ,  1.   ,\n",
       "         1.   ,  1.   ,  1.   ,  1.   ,  1.   ],\n",
       "       [-1.   , -1.   ,  1.   ,  1.   ,  0.   ,  0.   ,  0.   ,  0.   ,\n",
       "         0.   , -1.414,  1.414,  0.   ,  0.   ],\n",
       "       [-1.   ,  1.   , -1.   ,  1.   ,  0.   ,  0.   ,  0.   ,  0.   ,\n",
       "         0.   ,  0.   ,  0.   , -1.414,  1.414],\n",
       "       [ 1.   ,  1.   ,  1.   ,  1.   ,  0.   ,  0.   ,  0.   ,  0.   ,\n",
       "         0.   ,  2.   ,  2.   ,  0.   ,  0.   ],\n",
       "       [ 1.   ,  1.   ,  1.   ,  1.   ,  0.   ,  0.   ,  0.   ,  0.   ,\n",
       "         0.   ,  0.   ,  0.   ,  2.   ,  2.   ],\n",
       "       [ 1.   , -1.   , -1.   ,  1.   ,  0.   ,  0.   ,  0.   ,  0.   ,\n",
       "         0.   ,  0.   ,  0.   ,  0.   ,  0.   ]])"
      ]
     },
     "execution_count": 8,
     "metadata": {},
     "output_type": "execute_result"
    }
   ],
   "source": [
    "#Transpose of matrix X\n",
    "Xt=X.transpose()\n",
    "Xt"
   ]
  },
  {
   "cell_type": "code",
   "execution_count": 9,
   "id": "c27be459",
   "metadata": {},
   "outputs": [
    {
     "data": {
      "text/plain": [
       "array([[13.      ,  0.      ,  0.      ,  8.      ,  8.      ,  0.      ],\n",
       "       [ 0.      ,  7.998792,  0.      ,  0.      ,  0.      ,  0.      ],\n",
       "       [ 0.      ,  0.      ,  7.998792,  0.      ,  0.      ,  0.      ],\n",
       "       [ 8.      ,  0.      ,  0.      , 12.      ,  4.      ,  0.      ],\n",
       "       [ 8.      ,  0.      ,  0.      ,  4.      , 12.      ,  0.      ],\n",
       "       [ 0.      ,  0.      ,  0.      ,  0.      ,  0.      ,  4.      ]])"
      ]
     },
     "execution_count": 9,
     "metadata": {},
     "output_type": "execute_result"
    }
   ],
   "source": [
    "#Multiplication of matrix Xt and matrix X\n",
    "A=Xt.dot(X)\n",
    "A"
   ]
  },
  {
   "cell_type": "code",
   "execution_count": 10,
   "id": "b3e4ce37",
   "metadata": {},
   "outputs": [
    {
     "data": {
      "text/plain": [
       "array([[ 0.2       ,  0.        ,  0.        , -0.1       , -0.1       ,\n",
       "         0.        ],\n",
       "       [ 0.        ,  0.12501888,  0.        ,  0.        ,  0.        ,\n",
       "         0.        ],\n",
       "       [ 0.        ,  0.        ,  0.12501888,  0.        ,  0.        ,\n",
       "         0.        ],\n",
       "       [-0.1       ,  0.        ,  0.        ,  0.14375   ,  0.01875   ,\n",
       "         0.        ],\n",
       "       [-0.1       ,  0.        ,  0.        ,  0.01875   ,  0.14375   ,\n",
       "         0.        ],\n",
       "       [ 0.        ,  0.        ,  0.        ,  0.        ,  0.        ,\n",
       "         0.25      ]])"
      ]
     },
     "execution_count": 10,
     "metadata": {},
     "output_type": "execute_result"
    }
   ],
   "source": [
    "#Inverse of matrix A\n",
    "B=np.linalg.inv(A)\n",
    "B"
   ]
  },
  {
   "cell_type": "code",
   "execution_count": 11,
   "id": "c2565418",
   "metadata": {},
   "outputs": [
    {
     "data": {
      "text/plain": [
       "array([[565.0857   ],\n",
       "       [ 57.5070276],\n",
       "       [  1.5000732],\n",
       "       [403.5014   ],\n",
       "       [376.8442   ],\n",
       "       [ 27.61     ]])"
      ]
     },
     "execution_count": 11,
     "metadata": {},
     "output_type": "execute_result"
    }
   ],
   "source": [
    "#Multiplication of matrix Xt and matrix Y\n",
    "C=Xt.dot(Y)\n",
    "C"
   ]
  },
  {
   "cell_type": "code",
   "execution_count": 12,
   "id": "d8b8db32",
   "metadata": {},
   "outputs": [
    {
     "data": {
      "text/plain": [
       "array([[34.98258   ],\n",
       "       [ 7.18946406],\n",
       "       [ 0.18753747],\n",
       "       [ 8.560585  ],\n",
       "       [ 5.228435  ],\n",
       "       [ 6.9025    ]])"
      ]
     },
     "execution_count": 12,
     "metadata": {},
     "output_type": "execute_result"
    }
   ],
   "source": [
    "#Multiplication of matrix B and C\n",
    "#These are coefficients of function\n",
    "D=B.dot(C)\n",
    "D"
   ]
  },
  {
   "cell_type": "code",
   "execution_count": 13,
   "id": "6866bb4e",
   "metadata": {},
   "outputs": [],
   "source": [
    "#Function of Total Cost\n",
    "def Zfun(x1,x2):\n",
    "    zf=D[0]+D[1]*x1+D[2]*x2+D[3]*(x1**2)+D[4]*(x2**2)+D[5]*(x1*x2)\n",
    "    return zf"
   ]
  },
  {
   "cell_type": "code",
   "execution_count": 14,
   "id": "d40ec75e",
   "metadata": {},
   "outputs": [],
   "source": [
    "#Making meshgrid for plots\n",
    "d1=np.linspace(min(Xt[1]),max(Xt[1]),100)\n",
    "d2=np.linspace(min(Xt[2]),max(Xt[2]),100)\n",
    "P,Q=np.meshgrid(d1,d2)\n",
    "Z=Zfun(P,Q)"
   ]
  },
  {
   "cell_type": "code",
   "execution_count": 15,
   "id": "6089cdd2",
   "metadata": {},
   "outputs": [
    {
     "data": {
      "text/plain": [
       "Text(0.5, 0, 'Total Cost')"
      ]
     },
     "execution_count": 15,
     "metadata": {},
     "output_type": "execute_result"
    },
    {
     "data": {
      "image/png": "[encoded data removed]",
      "text/plain": [
       "<Figure size 432x288 with 1 Axes>"
      ]
     },
     "metadata": {
      "needs_background": "light"
     },
     "output_type": "display_data"
    }
   ],
   "source": [
    "#Surface Plot of function\n",
    "ax=plt.axes(projection='3d')\n",
    "ax.plot_surface(P,Q,Z)\n",
    "ax.set_xlabel('Cost Factor')\n",
    "ax.set_ylabel('Risk Factor')\n",
    "ax.set_zlabel('Total Cost')"
   ]
  },
  {
   "cell_type": "code",
   "execution_count": 16,
   "id": "362a6e95",
   "metadata": {},
   "outputs": [
    {
     "data": {
      "image/png": "[encoded data removed]",
      "text/plain": [
       "<Figure size 432x288 with 1 Axes>"
      ]
     },
     "metadata": {
      "needs_background": "light"
     },
     "output_type": "display_data"
    }
   ],
   "source": [
    "#Contour plot of function\n",
    "cp=plt.contourf(P,Q,Z)\n",
    "plt.xlabel('Cost Factor')\n",
    "plt.ylabel('Risk Factor')\n",
    "plt.show()"
   ]
  },
  {
   "cell_type": "code",
   "execution_count": 17,
   "id": "76cb2ec9",
   "metadata": {},
   "outputs": [
    {
     "data": {
      "image/png": "[encoded data removed]",
      "text/plain": [
       "<Figure size 432x288 with 1 Axes>"
      ]
     },
     "metadata": {
      "needs_background": "light"
     },
     "output_type": "display_data"
    }
   ],
   "source": [
    "#Contour plot in short range\n",
    "c1=np.linspace(-0.6,-0.5,100)\n",
    "c2=np.linspace(0.3,0.4,100)\n",
    "R,S=np.meshgrid(c1,c2)\n",
    "V=Zfun(R,S)\n",
    "cp=plt.contourf(R,S,V)\n",
    "plt.xlabel('Cost Factor')\n",
    "plt.ylabel('Risk Factor')\n",
    "plt.show()"
   ]
  },
  {
   "cell_type": "code",
   "execution_count": 18,
   "id": "2a86ba4e",
   "metadata": {},
   "outputs": [
    {
     "data": {
      "text/plain": [
       "32.99464849448543"
      ]
     },
     "execution_count": 18,
     "metadata": {},
     "output_type": "execute_result"
    }
   ],
   "source": [
    "#Finding minimum of function\n",
    "F=Zfun(c1,c2)\n",
    "min(F)"
   ]
  },
  {
   "cell_type": "code",
   "execution_count": null,
   "id": "957eb4fc",
   "metadata": {},
   "outputs": [],
   "source": []
  }
 ],
 "metadata": {
  "kernelspec": {
   "display_name": "Python 3 (ipykernel)",
   "language": "python",
   "name": "python3"
  },
  "language_info": {
   "codemirror_mode": {
    "name": "ipython",
    "version": 3
   },
   "file_extension": ".py",
   "mimetype": "text/x-python",
   "name": "python",
   "nbconvert_exporter": "python",
   "pygments_lexer": "ipython3",
   "version": "3.10.2"
  }
 },
 "nbformat": 4,
 "nbformat_minor": 5
}
